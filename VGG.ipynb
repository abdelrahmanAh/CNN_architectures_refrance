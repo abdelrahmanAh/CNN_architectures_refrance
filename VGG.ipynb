{
 "cells": [
  {
   "cell_type": "code",
   "execution_count": 1,
   "id": "4410334a",
   "metadata": {},
   "outputs": [],
   "source": [
    "%config Completer.use_jedi=False"
   ]
  },
  {
   "cell_type": "code",
   "execution_count": 14,
   "id": "82642a7f",
   "metadata": {},
   "outputs": [],
   "source": [
    "import torch\n",
    "from torch import nn"
   ]
  },
  {
   "cell_type": "code",
   "execution_count": 18,
   "id": "7ca8131f",
   "metadata": {},
   "outputs": [],
   "source": [
    "VGG_types = {\n",
    "    \"VGG11\": [64, \"M\", 128, \"M\", 256, 256, \"M\", 512, 512, \"M\", 512, 512, \"M\"],\n",
    "    \"VGG13\": [64, 64, \"M\", 128, 128, \"M\", 256, 256, \"M\", 512, 512, \"M\", 512, 512, \"M\"],\n",
    "    \"VGG16\": [\n",
    "        64,\n",
    "        64,\n",
    "        \"M\",\n",
    "        128,\n",
    "        128,\n",
    "        \"M\",\n",
    "        256,\n",
    "        256,\n",
    "        256,\n",
    "        \"M\",\n",
    "        512,\n",
    "        512,\n",
    "        512,\n",
    "        \"M\",\n",
    "        512,\n",
    "        512,\n",
    "        512,\n",
    "        \"M\",\n",
    "    ],\n",
    "    \"VGG19\": [\n",
    "        64,\n",
    "        64,\n",
    "        \"M\",\n",
    "        128,\n",
    "        128,\n",
    "        \"M\",\n",
    "        256,\n",
    "        256,\n",
    "        256,\n",
    "        256,\n",
    "        \"M\",\n",
    "        512,\n",
    "        512,\n",
    "        512,\n",
    "        512,\n",
    "        \"M\",\n",
    "        512,\n",
    "        512,\n",
    "        512,\n",
    "        512,\n",
    "        \"M\",\n",
    "    ],\n",
    "}\n",
    "\n",
    "#m mean maxpool num means output channel of con2d"
   ]
  },
  {
   "cell_type": "code",
   "execution_count": 34,
   "id": "bc92b50f",
   "metadata": {},
   "outputs": [],
   "source": [
    "class VGG_net(nn.Module):\n",
    "    def __init__(self,in_channels=3,num_classes=1000):\n",
    "        super(VGG_net,self).__init__()\n",
    "        self.in_channels=in_channels\n",
    "        self.num_classes=num_classes\n",
    "        self.conv_layers=self.create_conv_layers(VGG_types['VGG16'])\n",
    "        self.fc=nn.Sequential(nn.Linear(7*7*512,4096),\n",
    "                              nn.ReLU(),\n",
    "                              nn.Dropout(p=.5),\n",
    "                              nn.Linear(4096,4096),\n",
    "                              nn.ReLU(),\n",
    "                              nn.Dropout(p=.5),\n",
    "                              nn.Linear(4096,num_classes)\n",
    "                             )\n",
    "    def forward(self,x):\n",
    "        x=self.conv_layers(x)\n",
    "        x=x.reshape(x.shape[0],-1)\n",
    "        x=self.fc(x)\n",
    "        return x\n",
    "    def create_conv_layers(self,architecture):\n",
    "        layers=[]\n",
    "        in_channels=self.in_channels\n",
    "        for x in architecture:\n",
    "            if type(x) ==int:\n",
    "                out_channels=x\n",
    "                layers+=[nn.Conv2d(in_channels=in_channels,out_channels=out_channels,\n",
    "                                    kernel_size=(3,3),stride=(1,1),padding=(1,1)),\n",
    "                        nn.BatchNorm2d(x),\n",
    "                        nn.ReLU()]\n",
    "                in_channels=x\n",
    "            elif x=='M':\n",
    "                layers+=[nn.MaxPool2d(stride=(2,2),kernel_size=(2,2))]\n",
    "        return nn.Sequential(*layers)"
   ]
  },
  {
   "cell_type": "code",
   "execution_count": 35,
   "id": "ea75b259",
   "metadata": {},
   "outputs": [],
   "source": [
    "model=VGG_net()\n",
    "x=torch.randn((1,3,224,224))"
   ]
  },
  {
   "cell_type": "code",
   "execution_count": 36,
   "id": "df0cc9cb",
   "metadata": {},
   "outputs": [
    {
     "name": "stdout",
     "output_type": "stream",
     "text": [
      "torch.Size([1, 1000])\n"
     ]
    }
   ],
   "source": [
    "print(model(x).shape)"
   ]
  },
  {
   "cell_type": "code",
   "execution_count": null,
   "id": "5ce40341",
   "metadata": {},
   "outputs": [],
   "source": []
  }
 ],
 "metadata": {
  "kernelspec": {
   "display_name": "Python 3",
   "language": "python",
   "name": "python3"
  },
  "language_info": {
   "codemirror_mode": {
    "name": "ipython",
    "version": 3
   },
   "file_extension": ".py",
   "mimetype": "text/x-python",
   "name": "python",
   "nbconvert_exporter": "python",
   "pygments_lexer": "ipython3",
   "version": "3.7.4"
  }
 },
 "nbformat": 4,
 "nbformat_minor": 5
}
