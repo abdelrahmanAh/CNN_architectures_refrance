{
 "cells": [
  {
   "cell_type": "code",
   "execution_count": 1,
   "id": "6655f6c0",
   "metadata": {},
   "outputs": [],
   "source": [
    "%config Completer.use_jedi=False\n",
    "import torch\n",
    "from torch import nn"
   ]
  },
  {
   "cell_type": "code",
   "execution_count": 2,
   "id": "6e7962f7",
   "metadata": {},
   "outputs": [],
   "source": [
    "class conv_block(nn.Module):\n",
    "    def __init__(self,in_channels,out_channels,**kwargs):\n",
    "        super(conv_block,self).__init__()\n",
    "        self.relu=nn.ReLU()\n",
    "        self.conv=nn.Conv2d(in_channels,out_channels,**kwargs)\n",
    "        self.batch_norm=nn.BatchNorm2d(out_channels)\n",
    "    def forward(self,x):\n",
    "        return self.relu(self.batch_norm(self.conv(x)))"
   ]
  },
  {
   "cell_type": "code",
   "execution_count": 3,
   "id": "dad83990",
   "metadata": {},
   "outputs": [],
   "source": [
    "class InceptionAux(nn.Module):\n",
    "    def __init__(self,in_channels,num_classes):\n",
    "        super(InceptionAux,self).__init__()\n",
    "        self.relu=nn.ReLU()\n",
    "        self.dropout=nn.Dropout(p=0.7)\n",
    "        self.pool=nn.AvgPool2d(kernel_size=5,stride=3)\n",
    "        self.conv=conv_block(in_channels,128,kernel_size=1)\n",
    "        self.fc1=nn.Linear(2048,1024)\n",
    "        self.fc2=nn.Linear(1024,num_classes)\n",
    "    def forward(self,x):\n",
    "        x=self.pool(x)\n",
    "        x=self.conv(x)\n",
    "        x=x.reshape(x.shape[0],-1)\n",
    "        x=self.relu(self.fc1(x))\n",
    "        x=self.dropout(x)\n",
    "        x=self.fc2(x)\n",
    "        return x"
   ]
  },
  {
   "cell_type": "code",
   "execution_count": 4,
   "id": "230fac6f",
   "metadata": {},
   "outputs": [],
   "source": [
    "\n",
    "class Inception_block(nn.Module):\n",
    "    def __init__(self,in_channels,out1x1,red3x3,out3x3,red5x5,out5x5,out1x1pool):\n",
    "        super(Inception_block,self).__init__()\n",
    "        self.branch1=conv_block(in_channels,out1x1,kernel_size=(1,1))\n",
    "        \n",
    "        self.branch2=nn.Sequential(conv_block(in_channels,red3x3,kernel_size=(1,1)),\n",
    "                                  conv_block(red3x3,out3x3,kernel_size=(3,3),padding=(1,1)))\n",
    "        \n",
    "        self.branch3=nn.Sequential(conv_block(in_channels,red5x5,kernel_size=(1,1)),\n",
    "                                  conv_block(red5x5,out5x5,kernel_size=(5,5),padding=(2,2)))\n",
    "        \n",
    "        self.branch4=nn.Sequential(nn.MaxPool2d(kernel_size=(3,3),stride=(1,1),padding=(1,1)),\n",
    "                                  conv_block(in_channels,out1x1pool,kernel_size=(1,1)))\n",
    "    def forward(self, x):\n",
    "            #(batch_size,channels,image_width,image_height)\n",
    "        return torch.cat(\n",
    "            [self.branch1(x), self.branch2(x), self.branch3(x), self.branch4(x)], 1\n",
    "        )\n",
    "\n"
   ]
  },
  {
   "cell_type": "code",
   "execution_count": 5,
   "id": "0e1bdce9",
   "metadata": {},
   "outputs": [],
   "source": [
    "class GoogleNet(nn.Module):\n",
    "    def __init__(self,aux_logits=True,num_classes=1000):\n",
    "        super(GoogleNet,self).__init__()\n",
    "        assert aux_logits==True or aux_logits==False\n",
    "        self.aux_logits=aux_logits\n",
    "        \n",
    "        self.conv1=conv_block(in_channels=3,out_channels=64,kernel_size=(7,7),\n",
    "                             stride=(2,2),padding=(3,3))\n",
    "        \n",
    "        self.maxpool1=nn.MaxPool2d(kernel_size=3,stride=2,padding=1)\n",
    "        self.conv2=conv_block(64,192,kernel_size=3,stride=1,padding=1)\n",
    "        self.maxpool2=nn.MaxPool2d(kernel_size=3,stride=2,padding=1)\n",
    "    # In this order: in_channels, out_1x1, red_3x3, out_3x3, red_5x5, out_5x5, out_1x1pool\n",
    "        self.inception3a=Inception_block(192,64,96,128,16,32,32)#64+128+32+32=256\n",
    "        self.inception3b=Inception_block(256,128,128,192,32,96,64)\n",
    "        self.maxpool3=nn.MaxPool2d(kernel_size=3,stride=2,padding=1)\n",
    "        \n",
    "        self.inception4a = Inception_block(480, 192, 96, 208, 16, 48, 64)\n",
    "        self.inception4b = Inception_block(512, 160, 112, 224, 24, 64, 64)\n",
    "        self.inception4c = Inception_block(512, 128, 128, 256, 24, 64, 64)\n",
    "        self.inception4d = Inception_block(512, 112, 144, 288, 32, 64, 64)\n",
    "        self.inception4e = Inception_block(528, 256, 160, 320, 32, 128, 128)\n",
    "        self.maxpool4 = nn.MaxPool2d(kernel_size=3, stride=2, padding=1)\n",
    "\n",
    "        self.inception5a = Inception_block(832, 256, 160, 320, 32, 128, 128)\n",
    "        self.inception5b = Inception_block(832, 384, 192, 384, 48, 128, 128)\n",
    "        \n",
    "        self.avgpool=nn.AvgPool2d(kernel_size=7,stride=1)\n",
    "        self.dropout=nn.Dropout(p=0.4)\n",
    "        self.fc1=nn.Linear(1024,num_classes)\n",
    "        \n",
    "        if self.aux_logits:\n",
    "            self.aux1=InceptionAux(512,num_classes)\n",
    "            self.aux2=InceptionAux(528,num_classes)\n",
    "        else:\n",
    "            self.aux1=self.aux2=None\n",
    "    def forward(self,x):\n",
    "        x=self.conv1(x)\n",
    "        x=self.maxpool1(x)\n",
    "        x=self.conv2(x)\n",
    "        x=self.maxpool2(x)\n",
    "        \n",
    "        x=self.inception3a(x)\n",
    "        x=self.inception3b(x)\n",
    "        x=self.maxpool3(x)\n",
    "        \n",
    "        x=self.inception4a(x)\n",
    "        \n",
    "        #auxliliary softmax classifer 1\n",
    "        if self.aux_logits and self.training:\n",
    "            aux1=self.aux1(x)\n",
    "            \n",
    "        x=self.inception4b(x)\n",
    "        x=self.inception4c(x)\n",
    "        x=self.inception4d(x)\n",
    "        \n",
    "        #auxliliary softmax classifer 1\n",
    "        if self.aux_logits and self.training:\n",
    "            aux2=self.aux2(x)\n",
    "        \n",
    "        x=self.inception4e(x)\n",
    "        x=self.maxpool4(x)\n",
    "        x=self.inception5a(x)\n",
    "        x=self.inception5b(x)\n",
    "        x=self.avgpool(x)\n",
    "        x=x.reshape(x.shape[0],-1)\n",
    "        x=self.dropout(x)\n",
    "        x=self.fc1(x)\n",
    "        \n",
    "        if self.aux_logits and self.training:\n",
    "            return aux1,aux2,x\n",
    "        else:\n",
    "            return x\n",
    "        \n",
    "        "
   ]
  },
  {
   "cell_type": "code",
   "execution_count": 6,
   "id": "3605f018",
   "metadata": {},
   "outputs": [],
   "source": [
    "x=torch.randn(3,3,224,224)\n",
    "model=GoogleNet(aux_logits=True,num_classes=1000)"
   ]
  },
  {
   "cell_type": "code",
   "execution_count": 7,
   "id": "2b7f46ab",
   "metadata": {},
   "outputs": [
    {
     "name": "stdout",
     "output_type": "stream",
     "text": [
      "torch.Size([3, 1000])\n"
     ]
    }
   ],
   "source": [
    "print(model(x)[2].shape)"
   ]
  },
  {
   "cell_type": "code",
   "execution_count": 68,
   "id": "d311bb23",
   "metadata": {},
   "outputs": [],
   "source": []
  },
  {
   "cell_type": "code",
   "execution_count": null,
   "id": "7f4bf8f4",
   "metadata": {},
   "outputs": [],
   "source": [
    "\n"
   ]
  },
  {
   "cell_type": "code",
   "execution_count": null,
   "id": "58a625c5",
   "metadata": {},
   "outputs": [],
   "source": []
  }
 ],
 "metadata": {
  "kernelspec": {
   "display_name": "Python 3",
   "language": "python",
   "name": "python3"
  },
  "language_info": {
   "codemirror_mode": {
    "name": "ipython",
    "version": 3
   },
   "file_extension": ".py",
   "mimetype": "text/x-python",
   "name": "python",
   "nbconvert_exporter": "python",
   "pygments_lexer": "ipython3",
   "version": "3.7.4"
  }
 },
 "nbformat": 4,
 "nbformat_minor": 5
}
