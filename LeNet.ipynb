{
 "cells": [
  {
   "cell_type": "code",
   "execution_count": 1,
   "id": "76570e73",
   "metadata": {},
   "outputs": [],
   "source": [
    "%config Completer.use_jedi=False"
   ]
  },
  {
   "cell_type": "code",
   "execution_count": 2,
   "id": "c0bc8b49",
   "metadata": {},
   "outputs": [],
   "source": [
    "import torch\n",
    "from torch import nn"
   ]
  },
  {
   "cell_type": "code",
   "execution_count": 3,
   "id": "8d9136ed",
   "metadata": {},
   "outputs": [],
   "source": [
    "#leNet artichture\n",
    "#1*32*32 input -->(5,5)s=1,p=0 out_channel-6 -->avg pool (2,2)  s=2 p=0 --> \n",
    "# (5,5)s=1,p=0 out_channel 16 -->avg pool(2,2) s=2 p=0 -->\n",
    "# (5,5)s=1,p=0 out_channel 120 --> linear 120  84 -->linear 84 10"
   ]
  },
  {
   "cell_type": "code",
   "execution_count": 4,
   "id": "20f2a04e",
   "metadata": {},
   "outputs": [],
   "source": [
    "class LeNet(nn.Module):\n",
    "    def __init__(self):\n",
    "        super(LeNet,self).__init__()\n",
    "        self.avg_pool=nn.AvgPool2d((2,2),stride=(2,2))\n",
    "        self.relu=nn.ReLU()\n",
    "        self.conv1=nn.Conv2d(in_channels=1,out_channels=6,kernel_size=(5,5),stride=(1,1),padding=(0,0))\n",
    "        self.conv2=nn.Conv2d(in_channels=6,out_channels=16,kernel_size=(5,5),stride=(1,1),padding=(0,0))\n",
    "        self.conv3=nn.Conv2d(in_channels=16,out_channels=120,kernel_size=(5,5),stride=(1,1),padding=(0,0))\n",
    "        self.linear_1=nn.Linear(120,84)\n",
    "        self.linear_2=nn.Linear(84,10)\n",
    "    def forward(self,x):\n",
    "        x=self.relu(self.conv1(x))\n",
    "        x=self.avg_pool(x)\n",
    "        x=self.relu(self.conv2(x))\n",
    "        x=self.avg_pool(x)\n",
    "        x=self.relu(self.conv3(x))\n",
    "        x=x.reshape(x.shape[0],-1)\n",
    "        x=self.relu(self.linear_1(x))\n",
    "        x=self.linear_2(x)\n",
    "        return x"
   ]
  },
  {
   "cell_type": "code",
   "execution_count": 6,
   "id": "6b610fb4",
   "metadata": {},
   "outputs": [
    {
     "name": "stdout",
     "output_type": "stream",
     "text": [
      "torch.Size([64, 10])\n"
     ]
    }
   ],
   "source": [
    "tensor=torch.randn((64,1,32,32))\n",
    "model=LeNet()\n",
    "print(model(tensor).shape)"
   ]
  },
  {
   "cell_type": "code",
   "execution_count": null,
   "id": "dcfccba7",
   "metadata": {},
   "outputs": [],
   "source": []
  }
 ],
 "metadata": {
  "kernelspec": {
   "display_name": "Python 3",
   "language": "python",
   "name": "python3"
  },
  "language_info": {
   "codemirror_mode": {
    "name": "ipython",
    "version": 3
   },
   "file_extension": ".py",
   "mimetype": "text/x-python",
   "name": "python",
   "nbconvert_exporter": "python",
   "pygments_lexer": "ipython3",
   "version": "3.7.4"
  }
 },
 "nbformat": 4,
 "nbformat_minor": 5
}
