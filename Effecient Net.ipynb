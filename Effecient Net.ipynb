{
 "cells": [
  {
   "cell_type": "code",
   "execution_count": 1,
   "id": "5b4ec415",
   "metadata": {},
   "outputs": [],
   "source": [
    "%config Completer.use_jedi=False"
   ]
  },
  {
   "cell_type": "code",
   "execution_count": 97,
   "id": "3785469b",
   "metadata": {},
   "outputs": [],
   "source": [
    "import torch\n",
    "from torch import nn\n",
    "from math import ceil"
   ]
  },
  {
   "cell_type": "code",
   "execution_count": 98,
   "id": "b9bd7fb9",
   "metadata": {},
   "outputs": [],
   "source": [
    "base_model=[\n",
    "    #expand_ratio,channels,repeats,stride,kernel_size\n",
    "    [1,16,1,1,3],\n",
    "    [6, 24, 2, 2, 3],\n",
    "    [6, 40, 2, 2, 5],\n",
    "    [6, 80, 3, 2, 3],\n",
    "    [6, 112, 3, 1, 5],\n",
    "    [6, 192, 4, 2, 5],\n",
    "    [6, 320, 1, 1, 3],\n",
    "]"
   ]
  },
  {
   "cell_type": "code",
   "execution_count": 99,
   "id": "e320a775",
   "metadata": {},
   "outputs": [],
   "source": [
    "phi_values={\n",
    "    #tupels of :(phi_value,resolution,drop_rate)\n",
    "    'b0':(0,224,0.20),#alpha, beta, gamma, depth=alpha**phi\n",
    "    \"b1\": (0.5, 240, 0.2),\n",
    "    \"b2\": (1, 260, 0.3),\n",
    "    \"b3\": (2, 300, 0.3),\n",
    "    \"b4\": (3, 380, 0.4),\n",
    "    \"b5\": (4, 456, 0.4),\n",
    "    \"b6\": (5, 528, 0.5),\n",
    "    \"b7\": (6, 600, 0.5),\n",
    "}"
   ]
  },
  {
   "cell_type": "code",
   "execution_count": 100,
   "id": "e88bf36f",
   "metadata": {},
   "outputs": [],
   "source": [
    "class CNNBlock(nn.Module):\n",
    "    def __init__(\n",
    "            self, in_channels, out_channels, kernel_size, stride, padding, groups=1\n",
    "    ):\n",
    "        super(CNNBlock, self).__init__()\n",
    "        self.cnn = nn.Conv2d(\n",
    "            in_channels,\n",
    "            out_channels,\n",
    "            kernel_size,\n",
    "            stride,\n",
    "            padding,\n",
    "            groups=groups,\n",
    "            bias=False,\n",
    "        )\n",
    "        self.bn = nn.BatchNorm2d(out_channels)\n",
    "        self.silu = nn.SiLU() # SiLU <-> Swish\n",
    "\n",
    "    def forward(self, x):\n",
    "        return self.silu(self.bn(self.cnn(x)))\n"
   ]
  },
  {
   "attachments": {
    "image.png": {
     "image/png": "[encoded data removed]"
    }
   },
   "cell_type": "markdown",
   "id": "6f6b7805",
   "metadata": {},
   "source": [
    "![image.png](attachment:image.png)"
   ]
  },
  {
   "cell_type": "code",
   "execution_count": 101,
   "id": "486eb282",
   "metadata": {},
   "outputs": [],
   "source": [
    "class SqueezeExcitation(nn.Module):\n",
    "    def __init__(self,in_channels,reduced_dim):\n",
    "        super(SqueezeExcitation,self).__init__()\n",
    "        self.se=nn.Sequential(\n",
    "        nn.AdaptiveAvgPool2d(1),#cxhxw -> cx1x1\n",
    "        nn.Conv2d(in_channels,reduced_dim,1),\n",
    "        nn.SiLU(),\n",
    "        nn.Conv2d(reduced_dim,in_channels,1),\n",
    "        nn.Sigmoid()\n",
    "        )\n",
    "    def forward(self,x):\n",
    "        return x*self.se(x)#each channel will be mutliplayed it will give us ascore\n",
    "#this class is  attention score\n",
    "#it attenstion models that give us how much channel is prioritized "
   ]
  },
  {
   "cell_type": "code",
   "execution_count": 102,
   "id": "f25b97fb",
   "metadata": {},
   "outputs": [],
   "source": [
    "class InvertedResidualBlock(nn.Module):\n",
    "    def __init__(self,in_channels,out_channels,kernel_size,stride,padding,expand_ratio,\n",
    "                reduction=4, #squeeze extension\n",
    "                survival_prob=0.8):\n",
    "        super(InvertedResidualBlock,self).__init__()\n",
    "        self.survival_prob=survival_prob\n",
    "        self.use_residual=in_channels==out_channels and stride==1\n",
    "        hidden_dim=in_channels*expand_ratio\n",
    "        self.expand=in_channels!=hidden_dim\n",
    "        reduced_dim=int(in_channels/reduction)\n",
    "        if self.expand:\n",
    "            self.expand_conv=CNNBlock(in_channels,hidden_dim,kernel_size=3,stride=1,padding=1)\n",
    "        self.conv=nn.Sequential(\n",
    "        CNNBlock(hidden_dim,hidden_dim,kernel_size,stride,padding,groups=hidden_dim),\n",
    "        SqueezeExtension(hidden_dim,reduced_dim),\n",
    "        nn.Conv2d(hidden_dim,out_channels,1,bias=False),\n",
    "        nn.BatchNorm2d(out_channels))\n",
    "    def stochastic_depth(self,x):\n",
    "        if not self.training:\n",
    "            return x\n",
    "        binary_tensor=torch.rand(x.shape[0],1,1,1,device=x.device)<self.survival_prob\n",
    "        return torch.div(x,self.survival_prob)*binary_tensor#it just dropout but in layers\n",
    "    #note they used torch.div() becouse iff we drop layer we need to handdel this weight\n",
    "    def forward(self,inputs):\n",
    "        x=self.expand_conv(inputs) if self.expand else inputs\n",
    "        \n",
    "        if self.use_residual:\n",
    "            return self.stochastic_depth(self.conv(x))+inputs\n",
    "        else:\n",
    "            return self.conv(x)"
   ]
  },
  {
   "cell_type": "code",
   "execution_count": 103,
   "id": "081a21fc",
   "metadata": {},
   "outputs": [],
   "source": [
    "class EfficientNet(nn.Module):\n",
    "    def __init__(self,version,num_classes):\n",
    "        super(EfficientNet,self).__init__()\n",
    "        width_factor,depth_factor,drop_rate=self.calculate_factors(version)\n",
    "        last_channels=ceil(1280*width_factor)\n",
    "        self.pool=nn.AdaptiveAvgPool2d(1)\n",
    "        self.features=self.create_features(width_factor,depth_factor,last_channels)\n",
    "        self.classifer=nn.Sequential(nn.Dropout(drop_rate),\n",
    "                                    nn.Linear(last_channels,num_classes))\n",
    "    def calculate_factors(self,version,alpha=1.2,beta=1.1):\n",
    "        phi,res,drop_rate=phi_values[version]\n",
    "        depth_factor=alpha**phi\n",
    "        width_factor=beta**phi\n",
    "        return width_factor,depth_factor,drop_rate\n",
    "    def create_features(self,width_factor,depth_factor,last_channels):\n",
    "        channels=int(32*width_factor)\n",
    "        features=[CNNBlock(3,channels,3,stride=2,padding=1)]\n",
    "        in_channels=channels\n",
    "        for expand_ratio,channels,repeats,stride,kernel_size in base_model:\n",
    "            out_channels=4*ceil(int(channels*width_factor)/4)\n",
    "            layers_repeats=ceil(repeats*depth_factor)\n",
    "            for layer in range(layers_repeats):\n",
    "                features.append(InvertedResidualBlock(\n",
    "                in_channels,out_channels,expand_ratio=expand_ratio,\n",
    "                stride=stride if layer==0 else 1,\n",
    "                kernel_size=kernel_size,\n",
    "                 padding=kernel_size//2)\n",
    "                               )\n",
    "                in_channels=out_channels\n",
    "        features.append(CNNBlock(in_channels,last_channels,kernel_size=1,stride=1,padding=0))\n",
    "        return nn.Sequential(*features)\n",
    "   \n",
    "    def forward(self,x):\n",
    "        x=self.features(x)\n",
    "        x=self.pool(x)\n",
    "        return self.classifer(x.view(x.shape[0],-1))\n",
    "                "
   ]
  },
  {
   "cell_type": "code",
   "execution_count": 104,
   "id": "805f5873",
   "metadata": {},
   "outputs": [],
   "source": [
    "def test():\n",
    "    device='cpu' if torch.cuda.is_available() else \"cpu\"\n",
    "    version='b0'\n",
    "    phi,res,drop_rate=phi_values[version]\n",
    "    num_examples,num_classes=4,10\n",
    "    x=torch.rand((num_examples,3,res,res)).to(device)\n",
    "    model=EfficientNet(version=version,num_classes=num_classes).to(device)\n",
    "    print(model(x).shape)"
   ]
  },
  {
   "cell_type": "code",
   "execution_count": 105,
   "id": "8f497219",
   "metadata": {},
   "outputs": [
    {
     "name": "stdout",
     "output_type": "stream",
     "text": [
      "torch.Size([4, 10])\n"
     ]
    }
   ],
   "source": [
    "test()"
   ]
  },
  {
   "cell_type": "code",
   "execution_count": 19,
   "id": "85f43e9b",
   "metadata": {},
   "outputs": [],
   "source": [
    "# m = nn.AdaptiveAvgPool2d(7)\n",
    "# hh = torch.randn(1, 64, 10, 9)\n",
    "# output = m(hh)\n",
    "# output.shape\n",
    "# #torch.Size([1, 64, 7, 7])"
   ]
  },
  {
   "cell_type": "code",
   "execution_count": 21,
   "id": "f0d62112",
   "metadata": {},
   "outputs": [],
   "source": [
    "# m = nn.AvgPool2d(2)\n",
    "# hh = torch.randn(1, 64, 10, 9)\n",
    "# output = m(hh)\n",
    "# output.shape\n",
    "# #torch.Size([1, 64, 5, 4])"
   ]
  },
  {
   "cell_type": "code",
   "execution_count": 20,
   "id": "22f29b35",
   "metadata": {},
   "outputs": [],
   "source": []
  },
  {
   "cell_type": "code",
   "execution_count": 18,
   "id": "08cba354",
   "metadata": {},
   "outputs": [
    {
     "data": {
      "text/plain": [
       "torch.Size([1, 64, 5, 4])"
      ]
     },
     "execution_count": 18,
     "metadata": {},
     "output_type": "execute_result"
    }
   ],
   "source": []
  },
  {
   "cell_type": "code",
   "execution_count": null,
   "id": "50797559",
   "metadata": {},
   "outputs": [],
   "source": []
  }
 ],
 "metadata": {
  "kernelspec": {
   "display_name": "Python 3",
   "language": "python",
   "name": "python3"
  },
  "language_info": {
   "codemirror_mode": {
    "name": "ipython",
    "version": 3
   },
   "file_extension": ".py",
   "mimetype": "text/x-python",
   "name": "python",
   "nbconvert_exporter": "python",
   "pygments_lexer": "ipython3",
   "version": "3.7.4"
  }
 },
 "nbformat": 4,
 "nbformat_minor": 5
}
